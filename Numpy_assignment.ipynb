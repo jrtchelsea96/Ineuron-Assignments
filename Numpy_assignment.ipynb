{
  "nbformat": 4,
  "nbformat_minor": 0,
  "metadata": {
    "colab": {
      "name": "Numpy_assignment.ipynb",
      "provenance": []
    },
    "kernelspec": {
      "name": "python3",
      "display_name": "Python 3"
    }
  },
  "cells": [
    {
      "cell_type": "code",
      "metadata": {
        "colab": {
          "base_uri": "https://localhost:8080/"
        },
        "id": "A5snzvfzJVqA",
        "outputId": "f718db4c-b501-48b7-dc29-525ec0f7aa43"
      },
      "source": [
        "import numpy as np\n",
        "a=np.array([1,2,3,4])\n",
        "n=4\n",
        "mat=np.column_stack([a**(n-i-1) for i in range(n)])\n",
        "mat"
      ],
      "execution_count": null,
      "outputs": [
        {
          "output_type": "execute_result",
          "data": {
            "text/plain": [
              "array([[ 1,  1,  1,  1],\n",
              "       [ 8,  4,  2,  1],\n",
              "       [27,  9,  3,  1],\n",
              "       [64, 16,  4,  1]])"
            ]
          },
          "metadata": {
            "tags": []
          },
          "execution_count": 15
        }
      ]
    },
    {
      "cell_type": "code",
      "metadata": {
        "colab": {
          "base_uri": "https://localhost:8080/"
        },
        "id": "JzT4oZzSJrWg",
        "outputId": "f5a3a135-4661-49d3-a0bb-43c4c34cec04"
      },
      "source": [
        "a=np.array([1,2,3,4])\n",
        "np.vander(a)"
      ],
      "execution_count": null,
      "outputs": [
        {
          "output_type": "execute_result",
          "data": {
            "text/plain": [
              "array([[ 1,  1,  1,  1],\n",
              "       [ 8,  4,  2,  1],\n",
              "       [27,  9,  3,  1],\n",
              "       [64, 16,  4,  1]])"
            ]
          },
          "metadata": {
            "tags": []
          },
          "execution_count": 13
        }
      ]
    },
    {
      "cell_type": "code",
      "metadata": {
        "colab": {
          "base_uri": "https://localhost:8080/"
        },
        "id": "OHp8av-dJr9x",
        "outputId": "241025fe-d7a7-4599-f2a9-343818170a9f"
      },
      "source": [
        "a=np.array([1,2,3,4,5,6])\n",
        "ret=np.cumsum(a)\n",
        "ret"
      ],
      "execution_count": null,
      "outputs": [
        {
          "output_type": "execute_result",
          "data": {
            "text/plain": [
              "array([ 1,  3,  6, 10, 15, 21])"
            ]
          },
          "metadata": {
            "tags": []
          },
          "execution_count": 22
        }
      ]
    },
    {
      "cell_type": "code",
      "metadata": {
        "colab": {
          "base_uri": "https://localhost:8080/"
        },
        "id": "cTfMcnSSLwE_",
        "outputId": "759ca09b-cbc8-4581-f4f3-3d7a21af67bc"
      },
      "source": [
        "ret[1:]"
      ],
      "execution_count": null,
      "outputs": [
        {
          "output_type": "execute_result",
          "data": {
            "text/plain": [
              "array([ 3,  6, 10, 15, 21])"
            ]
          },
          "metadata": {
            "tags": []
          },
          "execution_count": 23
        }
      ]
    },
    {
      "cell_type": "code",
      "metadata": {
        "colab": {
          "base_uri": "https://localhost:8080/"
        },
        "id": "yjemDe_VRTlh",
        "outputId": "651b102e-98fa-4854-b0cc-d6a265806ca9"
      },
      "source": [
        "a = ret[3:] - ret[:-3]\n",
        "a"
      ],
      "execution_count": null,
      "outputs": [
        {
          "output_type": "execute_result",
          "data": {
            "text/plain": [
              "array([ 6,  3, -3])"
            ]
          },
          "metadata": {
            "tags": []
          },
          "execution_count": 28
        }
      ]
    },
    {
      "cell_type": "code",
      "metadata": {
        "id": "4uFBA1l_Rc_7"
      },
      "source": [
        "def mov_avg_val(mylist, N):\n",
        "    cumsum, moving_aves = [0], []\n",
        "    for i,x in enumerate(mylist, 1):\n",
        "        cumsum.append(cumsum[i-1] +x) # summing up all the values one by one and appending the list\n",
        "        if i>=N:\n",
        "            moving_ave = round(((cumsum[i] - cumsum[i-N])/N),2) #computing the moving average using temp array sum array cumsum\n",
        "            #can do stuff with moving_ave here\n",
        "            moving_aves.append(moving_ave) # listing the moving average as an single array\n",
        "    print(\"Moving average values list: \", moving_aves)\n",
        "    print(\"Length of the list l-N+1: \", len(moving_aves))"
      ],
      "execution_count": null,
      "outputs": []
    },
    {
      "cell_type": "code",
      "metadata": {
        "colab": {
          "base_uri": "https://localhost:8080/"
        },
        "id": "H6H2L5KqVWlu",
        "outputId": "c834ecf1-e802-44de-a5e0-c1983c77bb99"
      },
      "source": [
        "mylist = [10, 20, 30, 40, 50, 60, 70, 80, 90, 100]\n",
        "N = 4\n",
        "\n",
        "mov_avg_val(mylist,N)\n"
      ],
      "execution_count": null,
      "outputs": [
        {
          "output_type": "stream",
          "text": [
            "Moving average values list:  [25.0, 35.0, 45.0, 55.0, 65.0, 75.0, 85.0]\n",
            "Length of the list l-N+1:  7\n"
          ],
          "name": "stdout"
        }
      ]
    },
    {
      "cell_type": "code",
      "metadata": {
        "colab": {
          "base_uri": "https://localhost:8080/"
        },
        "id": "yU-qikinVcn1",
        "outputId": "112a533f-bbf2-4a64-c560-f2456f45c1f3"
      },
      "source": [
        "asum=[1,2,3,4,5,6,7,8,9,10]\n",
        "asum[:-3]"
      ],
      "execution_count": null,
      "outputs": [
        {
          "output_type": "execute_result",
          "data": {
            "text/plain": [
              "[1, 2, 3, 4, 5, 6, 7]"
            ]
          },
          "metadata": {
            "tags": []
          },
          "execution_count": 4
        }
      ]
    },
    {
      "cell_type": "code",
      "metadata": {
        "id": "Lmje8dAc5OAD"
      },
      "source": [
        "import numpy as np\n",
        "def moving_average(a, n=3) :\n",
        "    ret = np.cumsum(a, dtype=float)\n",
        "    ret[n:] = ret[n:] - ret[:-n]\n",
        "    return ret[n - 1:] / n"
      ],
      "execution_count": null,
      "outputs": []
    },
    {
      "cell_type": "code",
      "metadata": {
        "colab": {
          "base_uri": "https://localhost:8080/"
        },
        "id": "Rt5tP-Dc81CN",
        "outputId": "c16e20a8-30f5-472a-f680-bb4c6fd5c849"
      },
      "source": [
        "a = np.arange(20)\n",
        "np.array(moving_average(a,n=3).round(2))"
      ],
      "execution_count": null,
      "outputs": [
        {
          "output_type": "execute_result",
          "data": {
            "text/plain": [
              "array([ 1.,  2.,  3.,  4.,  5.,  6.,  7.,  8.,  9., 10., 11., 12., 13.,\n",
              "       14., 15., 16., 17., 18.])"
            ]
          },
          "metadata": {
            "tags": []
          },
          "execution_count": 16
        }
      ]
    },
    {
      "cell_type": "code",
      "metadata": {
        "colab": {
          "base_uri": "https://localhost:8080/"
        },
        "id": "4lv8wCuh86JB",
        "outputId": "fd290e40-0fba-464a-c348-9119255f9a29"
      },
      "source": [
        "a"
      ],
      "execution_count": null,
      "outputs": [
        {
          "output_type": "execute_result",
          "data": {
            "text/plain": [
              "array([ 0,  1,  2,  3,  4,  5,  6,  7,  8,  9, 10, 11, 12, 13, 14, 15, 16,\n",
              "       17, 18, 19])"
            ]
          },
          "metadata": {
            "tags": []
          },
          "execution_count": 14
        }
      ]
    },
    {
      "cell_type": "code",
      "metadata": {
        "id": "aeQ6YQZF9Qku"
      },
      "source": [
        ""
      ],
      "execution_count": null,
      "outputs": []
    }
  ]
}