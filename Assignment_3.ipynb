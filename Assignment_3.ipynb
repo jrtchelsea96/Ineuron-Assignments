{
  "nbformat": 4,
  "nbformat_minor": 0,
  "metadata": {
    "colab": {
      "name": "Assignment_3.ipynb",
      "provenance": [],
      "collapsed_sections": []
    },
    "kernelspec": {
      "name": "python3",
      "display_name": "Python 3"
    }
  },
  "cells": [
    {
      "cell_type": "code",
      "metadata": {
        "id": "BYH2toUfJbmO"
      },
      "source": [
        "def myreduce(func,lst):\n",
        "  final=lst[0]\n",
        "  for i in lst[1:]:\n",
        "    final=func(final,i)\n",
        "  return final"
      ],
      "execution_count": null,
      "outputs": []
    },
    {
      "cell_type": "code",
      "metadata": {
        "id": "YBd93kDcK9qD"
      },
      "source": [
        "def sum(x,y):return x + y"
      ],
      "execution_count": null,
      "outputs": []
    },
    {
      "cell_type": "code",
      "metadata": {
        "colab": {
          "base_uri": "https://localhost:8080/"
        },
        "id": "7lcHCCRQLHfE",
        "outputId": "0e200bb4-4f33-4c37-c5af-d57d63e0e3ae"
      },
      "source": [
        "print(\"Output using own reduce function \" + str(myreduce(sum,[1,2,3,4])))"
      ],
      "execution_count": null,
      "outputs": [
        {
          "output_type": "stream",
          "text": [
            "Output using own reduce function 10\n"
          ],
          "name": "stdout"
        }
      ]
    },
    {
      "cell_type": "code",
      "metadata": {
        "id": "kn6JWNFZLWW_"
      },
      "source": [
        "def multiply(x,y):return x*y"
      ],
      "execution_count": null,
      "outputs": []
    },
    {
      "cell_type": "code",
      "metadata": {
        "colab": {
          "base_uri": "https://localhost:8080/"
        },
        "id": "Rw8xt8P2MeyQ",
        "outputId": "e0793bc6-77b4-4161-ac6f-0c465d149eb0"
      },
      "source": [
        "print(\"Output using own reduce function \" + str(myreduce(multiply,[2,3,4])))"
      ],
      "execution_count": null,
      "outputs": [
        {
          "output_type": "stream",
          "text": [
            "Output using own reduce function 24\n"
          ],
          "name": "stdout"
        }
      ]
    },
    {
      "cell_type": "code",
      "metadata": {
        "id": "3egsb-8OMlB2"
      },
      "source": [
        ""
      ],
      "execution_count": null,
      "outputs": []
    },
    {
      "cell_type": "code",
      "metadata": {
        "id": "BzLRVM4xZDgl"
      },
      "source": [
        ""
      ],
      "execution_count": null,
      "outputs": []
    },
    {
      "cell_type": "code",
      "metadata": {
        "id": "SNd9m8SwN_5h"
      },
      "source": [
        "def myfilter(func,lst):\n",
        "  final=[]\n",
        "  for i in lst:\n",
        "    if func(i):\n",
        "      final.append(i)\n",
        "  return final"
      ],
      "execution_count": null,
      "outputs": []
    },
    {
      "cell_type": "code",
      "metadata": {
        "id": "evIH02lmPD6h"
      },
      "source": [
        "def check_odd(x):\n",
        "  if x % 2 !=0:\n",
        "    return True"
      ],
      "execution_count": null,
      "outputs": []
    },
    {
      "cell_type": "code",
      "metadata": {
        "colab": {
          "base_uri": "https://localhost:8080/"
        },
        "id": "JtaKCeTePhH_",
        "outputId": "6a07e1cd-5665-4c79-bdb1-cc53705395e2"
      },
      "source": [
        "print(\"Output using own myfilter function \" + str(myfilter(check_odd,[4,5,6,7])))"
      ],
      "execution_count": null,
      "outputs": [
        {
          "output_type": "stream",
          "text": [
            "Output using own myfilter function [5, 7]\n"
          ],
          "name": "stdout"
        }
      ]
    },
    {
      "cell_type": "code",
      "metadata": {
        "id": "BkdA9lAHRnNg"
      },
      "source": [
        ""
      ],
      "execution_count": null,
      "outputs": []
    },
    {
      "cell_type": "code",
      "metadata": {
        "id": "Ng-aB-AwZFsa"
      },
      "source": [
        ""
      ],
      "execution_count": null,
      "outputs": []
    },
    {
      "cell_type": "code",
      "metadata": {
        "colab": {
          "base_uri": "https://localhost:8080/"
        },
        "id": "cM6_vjQtSIOo",
        "outputId": "bf08f67e-3df0-4b17-bb82-ee74ac54115f"
      },
      "source": [
        "a=[i*j for i in ['x','y','z'] for j in range(1,5)]\n",
        "a"
      ],
      "execution_count": null,
      "outputs": [
        {
          "output_type": "execute_result",
          "data": {
            "text/plain": [
              "['x', 'xx', 'xxx', 'xxxx', 'y', 'yy', 'yyy', 'yyyy', 'z', 'zz', 'zzz', 'zzzz']"
            ]
          },
          "metadata": {
            "tags": []
          },
          "execution_count": 149
        }
      ]
    },
    {
      "cell_type": "code",
      "metadata": {
        "colab": {
          "base_uri": "https://localhost:8080/"
        },
        "id": "GxQuHRdFUs6h",
        "outputId": "9d6be563-f8d0-4f0a-9dd6-549e27657b2f"
      },
      "source": [
        "b=[i*j for i in range(1,5) for j in ['x','y','z']]\n",
        "b"
      ],
      "execution_count": null,
      "outputs": [
        {
          "output_type": "execute_result",
          "data": {
            "text/plain": [
              "['x', 'y', 'z', 'xx', 'yy', 'zz', 'xxx', 'yyy', 'zzz', 'xxxx', 'yyyy', 'zzzz']"
            ]
          },
          "metadata": {
            "tags": []
          },
          "execution_count": 151
        }
      ]
    },
    {
      "cell_type": "code",
      "metadata": {
        "colab": {
          "base_uri": "https://localhost:8080/"
        },
        "id": "WVWI03vaVY86",
        "outputId": "4d20131b-30f2-44f1-aaaf-50912f809181"
      },
      "source": [
        "c=[[i+j] for i in range(3)  for j in range(2,5)]\n",
        "c"
      ],
      "execution_count": null,
      "outputs": [
        {
          "output_type": "execute_result",
          "data": {
            "text/plain": [
              "[[2], [3], [4], [3], [4], [5], [4], [5], [6]]"
            ]
          },
          "metadata": {
            "tags": []
          },
          "execution_count": 152
        }
      ]
    },
    {
      "cell_type": "code",
      "metadata": {
        "colab": {
          "base_uri": "https://localhost:8080/"
        },
        "id": "w_2RWM-EV5uk",
        "outputId": "cdb3b213-cbbb-43d4-ab34-f484573af5ec"
      },
      "source": [
        "d=[[i+j for i in [2,3,4,5]] for j in range(4)]\n",
        "d"
      ],
      "execution_count": null,
      "outputs": [
        {
          "output_type": "execute_result",
          "data": {
            "text/plain": [
              "[[2, 3, 4, 5], [3, 4, 5, 6], [4, 5, 6, 7], [5, 6, 7, 8]]"
            ]
          },
          "metadata": {
            "tags": []
          },
          "execution_count": 158
        }
      ]
    },
    {
      "cell_type": "code",
      "metadata": {
        "colab": {
          "base_uri": "https://localhost:8080/"
        },
        "id": "gX_ovoXTX1T-",
        "outputId": "cbb1b1b5-1a84-4d12-d2a8-040786b06e16"
      },
      "source": [
        "e=[(i,j) for i in range(1,4) for j in range(1,4)]\n",
        "e"
      ],
      "execution_count": null,
      "outputs": [
        {
          "output_type": "execute_result",
          "data": {
            "text/plain": [
              "[(1, 1), (1, 2), (1, 3), (2, 1), (2, 2), (2, 3), (3, 1), (3, 2), (3, 3)]"
            ]
          },
          "metadata": {
            "tags": []
          },
          "execution_count": 161
        }
      ]
    },
    {
      "cell_type": "code",
      "metadata": {
        "id": "FqyE9DboYv2L"
      },
      "source": [
        ""
      ],
      "execution_count": null,
      "outputs": []
    }
  ]
}