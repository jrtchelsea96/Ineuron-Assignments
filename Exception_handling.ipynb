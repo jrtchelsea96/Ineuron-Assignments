{
  "nbformat": 4,
  "nbformat_minor": 0,
  "metadata": {
    "colab": {
      "name": "Exception handling.ipynb",
      "provenance": []
    },
    "kernelspec": {
      "name": "python3",
      "display_name": "Python 3"
    }
  },
  "cells": [
    {
      "cell_type": "code",
      "metadata": {
        "id": "W1flggt1uazM",
        "colab": {
          "base_uri": "https://localhost:8080/"
        },
        "outputId": "a956794d-7bb3-433e-80e2-c00efc482571"
      },
      "source": [
        "def division():\n",
        "  return 5/0\n",
        "\n",
        "try:\n",
        "  division()\n",
        "except ZeroDivisionError:\n",
        "  print('DivideByZeroError ; Denominator cannot be zero')\n",
        "except:\n",
        "  print('Some other exception occured')"
      ],
      "execution_count": null,
      "outputs": [
        {
          "output_type": "stream",
          "text": [
            "DivideByZeroError ; Denominator cannot be zero\n"
          ],
          "name": "stdout"
        }
      ]
    },
    {
      "cell_type": "code",
      "metadata": {
        "id": "fTDzakQNubJ7"
      },
      "source": [
        ""
      ],
      "execution_count": null,
      "outputs": []
    },
    {
      "cell_type": "code",
      "metadata": {
        "id": "2MtbmBJH0_SH"
      },
      "source": [
        ""
      ],
      "execution_count": null,
      "outputs": []
    },
    {
      "cell_type": "code",
      "metadata": {
        "id": "a8nwxbK6vBSS",
        "colab": {
          "base_uri": "https://localhost:8080/"
        },
        "outputId": "3bb6f12c-19c0-4d21-a231-332595ae2ce8"
      },
      "source": [
        "subjects=[\"Americans\",\"Indians\"]\n",
        "verbs=[\"play\",\"watch\"]\n",
        "objects=[\"Baseball\",\"Cricket\"]\n",
        "\n",
        "for a in subjects:\n",
        "  for b in verbs:\n",
        "    for c in objects:\n",
        "      print(a + \" \" + b + \" \" + c)"
      ],
      "execution_count": null,
      "outputs": [
        {
          "output_type": "stream",
          "text": [
            "Americans play Baseball\n",
            "Americans play Cricket\n",
            "Americans watch Baseball\n",
            "Americans watch Cricket\n",
            "Indians play Baseball\n",
            "Indians play Cricket\n",
            "Indians watch Baseball\n",
            "Indians watch Cricket\n"
          ],
          "name": "stdout"
        }
      ]
    },
    {
      "cell_type": "code",
      "metadata": {
        "id": "x0y_s6Pzu8X3"
      },
      "source": [
        ""
      ],
      "execution_count": null,
      "outputs": []
    },
    {
      "cell_type": "code",
      "metadata": {
        "id": "2rsi7WPuxikT"
      },
      "source": [
        ""
      ],
      "execution_count": null,
      "outputs": []
    },
    {
      "cell_type": "code",
      "metadata": {
        "id": "Di92M33yxnUY"
      },
      "source": [
        ""
      ],
      "execution_count": null,
      "outputs": []
    }
  ]
}